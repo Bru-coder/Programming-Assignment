{
 "cells": [
  {
   "cell_type": "markdown",
   "id": "8484624f-eae0-43a6-ac19-f9e2bf79abca",
   "metadata": {},
   "source": [
    "# Alphabet Soup Problem\n",
    " Create a function that takes a string and returns a string with its letters \n",
    "in alphabetical order."
   ]
  },
  {
   "cell_type": "code",
   "execution_count": 14,
   "id": "a04080ec-0393-43a9-8d41-4b71073b5e96",
   "metadata": {},
   "outputs": [
    {
     "ename": "TypeError",
     "evalue": "alphabet_soup() takes 1 positional argument but 2 were given",
     "output_type": "error",
     "traceback": [
      "\u001b[1;31m---------------------------------------------------------------------------\u001b[0m",
      "\u001b[1;31mTypeError\u001b[0m                                 Traceback (most recent call last)",
      "Cell \u001b[1;32mIn[14], line 14\u001b[0m\n\u001b[0;32m     12\u001b[0m      \u001b[38;5;28;01mreturn\u001b[39;00m sorted_string \n\u001b[0;32m     13\u001b[0m \u001b[38;5;66;03m#print the alphabetized word\u001b[39;00m\n\u001b[1;32m---> 14\u001b[0m sorted_string \u001b[38;5;241m=\u001b[39m alphabet_soup(\u001b[38;5;124m\"\u001b[39m\u001b[38;5;124mhello\u001b[39m\u001b[38;5;124m\"\u001b[39m , \u001b[38;5;124m\"\u001b[39m\u001b[38;5;124mhacker\u001b[39m\u001b[38;5;124m\"\u001b[39m)\n\u001b[0;32m     15\u001b[0m \u001b[38;5;28mprint\u001b[39m(sorted_string)\n",
      "\u001b[1;31mTypeError\u001b[0m: alphabet_soup() takes 1 positional argument but 2 were given"
     ]
    }
   ],
   "source": [
    "#define the function alphabet_soup that takes input_string as parameter\n",
    "def alphabet_soup(input_string): \n",
    "     #This will sort the characters in alphabetical order(case-insensitive) and store them in a list\n",
    "     sorted_characters=sorted(input_string, key=str.lower) \n",
    "     #initialize empty string to gather sorted strings \n",
    "     sorted_string=\"\" \n",
    "     #loops through all characters in the list \n",
    "     for char in sorted_characters: \n",
    "        #concatenate each character to sorted_string \n",
    "        sorted_string += char\n",
    "     #return the concatenated sorted_string \n",
    "     return sorted_string \n",
    "#print the alphabetized word\n",
    "sorted_string = alphabet_soup(\"hello\" , \"hacker\")\n",
    "print(sorted_string)"
   ]
  },
  {
   "cell_type": "markdown",
   "id": "8cc9196e-4e18-48df-bdd5-9e0583cc8d4e",
   "metadata": {},
   "source": [
    "# Emoticon Problem\n",
    "\n",
    " Create a function that changes specific words into emoticons. Given a sentence \r\n",
    "as a string, replace the words smile, grin, sad and mad with their corresponding emotico.:\n"
   ]
  },
  {
   "cell_type": "code",
   "execution_count": 10,
   "id": "685a7e02-099b-4c78-a254-af037bbf2547",
   "metadata": {},
   "outputs": [
    {
     "name": "stdout",
     "output_type": "stream",
     "text": [
      "Make me :) I am >:( , grin, :(( \n"
     ]
    }
   ],
   "source": [
    " #defines function emotify and takes sentence as variable\n",
    "def emotify(sentence):\n",
    "    #Dictionary Mapping words to their corresponding emotion\n",
    "    emoticon_dict = {'smile': ':)', 'grin': ':D','sad': ':((', 'mad': '>:('} \n",
    "    \n",
    "    #This will split the words in the sentence into individual words \n",
    "    words = sentence.split() \n",
    "    \n",
    "    #initialize empty empty string to accumulate the new_sentence\n",
    "    new_sentence=\"\" \n",
    "    #iterates through each word in the list of words\n",
    "    for word in words: \n",
    "        #converts each word to ensure case-insensitive matching\n",
    "        word_lower = word.lower() \n",
    "        #Verify if the lower case word is in the emoticon_dict\n",
    "        if word_lower in emoticon_dict:  \n",
    "            #This will append the corresponding emoticon and a space to the new sentence \n",
    "            new_sentence += emoticon_dict[word_lower] + \" \" \n",
    "        #This will append the original word and a space \n",
    "        else: \n",
    "            new_sentence += word + \" \" \n",
    "    #return the new sentence\n",
    "    return new_sentence \n",
    "#calls the function emotify with the sentence inputed and prints the new sentence\n",
    "new_sentence = emotify(\"Make me smile I am mad , grin, sad\") \n",
    "print(new_sentence)"
   ]
  },
  {
   "cell_type": "markdown",
   "id": "37243b0f-255f-4246-98d6-157959cf1b84",
   "metadata": {},
   "source": [
    "# UNPACKING LIST PROBLEM\n",
    "Unpack the list writeyourcodehere into three variables, being first, \n",
    "middle, and last, with middle being everything in between the first and last element. Then print all three \r\n",
    "variables."
   ]
  },
  {
   "cell_type": "code",
   "execution_count": 9,
   "id": "97a93537-6f31-4418-830f-0f50152ea044",
   "metadata": {},
   "outputs": [
    {
     "name": "stdout",
     "output_type": "stream",
     "text": [
      "First: 1 Middle: [2, 3, 4, 5] Last: 6\n"
     ]
    }
   ],
   "source": [
    "#a list that has the value from 1 to 6\n",
    "writeyourcodehere = [1,2,3,4,5,6]  \n",
    "#stores the first element using indexing in variable first\n",
    "first = writeyourcodehere[0]\n",
    "#Uses slicing, the slices goes up from index 1 up to last but will exclude the last element\n",
    "middle = writeyourcodehere[1:-1] \n",
    "#This will allow to access the end of the list\n",
    "last = writeyourcodehere[-1] \n",
    "#ouput the value of first, middle, and last\n",
    "print(\"First:\", first, \"Middle:\", middle, \"Last:\", last) "
   ]
  },
  {
   "cell_type": "code",
   "execution_count": null,
   "id": "38305f21-21c0-4fcd-a844-d40097685637",
   "metadata": {},
   "outputs": [],
   "source": []
  }
 ],
 "metadata": {
  "kernelspec": {
   "display_name": "Python 3 (ipykernel)",
   "language": "python",
   "name": "python3"
  },
  "language_info": {
   "codemirror_mode": {
    "name": "ipython",
    "version": 3
   },
   "file_extension": ".py",
   "mimetype": "text/x-python",
   "name": "python",
   "nbconvert_exporter": "python",
   "pygments_lexer": "ipython3",
   "version": "3.12.4"
  }
 },
 "nbformat": 4,
 "nbformat_minor": 5
}
